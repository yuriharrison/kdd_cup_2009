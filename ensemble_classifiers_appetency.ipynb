{
 "cells": [
  {
   "cell_type": "code",
   "execution_count": 1,
   "metadata": {
    "colab": {},
    "colab_type": "code",
    "id": "IWAB3UC553zo"
   },
   "outputs": [],
   "source": [
    "import os\n",
    "import pickle\n",
    "import itertools\n",
    "import numpy as np\n",
    "from numpy import float, int\n",
    "import pandas as pd\n",
    "from matplotlib import pyplot\n",
    "from IPython.display import HTML, display\n",
    "\n",
    "from sklearn import metrics\n",
    "from sklearn import preprocessing\n",
    "from sklearn.model_selection import StratifiedShuffleSplit\n",
    "from sklearn.ensemble import RandomForestClassifier, GradientBoostingClassifier"
   ]
  },
  {
   "cell_type": "code",
   "execution_count": 2,
   "metadata": {
    "colab": {
     "base_uri": "https://localhost:8080/",
     "height": 51
    },
    "colab_type": "code",
    "id": "T9Z859Jw55un",
    "outputId": "486c4a45-b08e-47f5-df6a-d76eb2084006"
   },
   "outputs": [
    {
     "name": "stdout",
     "output_type": "stream",
     "text": [
      "Using matplotlib backend: TkAgg\n",
      "Populating the interactive namespace from numpy and matplotlib\n"
     ]
    }
   ],
   "source": [
    "# Display\n",
    "%matplotlib\n",
    "%pylab inline\n",
    "pylab.rcParams['figure.figsize'] = (10, 6)\n",
    "\n",
    "plt.style.use('seaborn-dark')"
   ]
  },
  {
   "cell_type": "markdown",
   "metadata": {
    "colab_type": "text",
    "id": "bgc8E7iJC8ED"
   },
   "source": [
    "## Helpers"
   ]
  },
  {
   "cell_type": "markdown",
   "metadata": {
    "colab_type": "text",
    "id": "9b-_iPwwU2m0"
   },
   "source": [
    "### IPython"
   ]
  },
  {
   "cell_type": "code",
   "execution_count": 3,
   "metadata": {
    "colab": {},
    "colab_type": "code",
    "id": "Jax2Rou6UtmX"
   },
   "outputs": [],
   "source": [
    "def display_pb(iterable, index=False):\n",
    "  length = len(iterable)\n",
    "  def progress_bar(value=0, length=length):\n",
    "      return HTML(\"\"\"\n",
    "          <progress\n",
    "              value='{value}'\n",
    "              max='{max}',\n",
    "              style='width: 100%'\n",
    "          >\n",
    "              {value}\n",
    "          </progress>\n",
    "      \"\"\".format(value=value, max=length))\n",
    "  \n",
    "  out = display(progress_bar(), display_id=True)\n",
    "  for i, j in enumerate(iterable):\n",
    "    yield (i, j) if index else j\n",
    "    progress = i + 1\n",
    "    out.update(progress_bar(progress))\n"
   ]
  },
  {
   "cell_type": "markdown",
   "metadata": {
    "colab_type": "text",
    "id": "MKDBpf38UjP8"
   },
   "source": [
    "### EVALUATION METRICS"
   ]
  },
  {
   "cell_type": "code",
   "execution_count": 4,
   "metadata": {
    "colab": {},
    "colab_type": "code",
    "id": "cPh9ofC5CB2a"
   },
   "outputs": [],
   "source": [
    "def mse(y_hat, y):\n",
    "    return ((y_hat - y) ** 2).mean()\n",
    "\n",
    "\n",
    "def rmse(y_hat, y):\n",
    "    return np.sqrt(mse(y_hat, y))\n",
    "\n",
    "\n",
    "def bin_class_dev(p_hat, y, pos_cat=None, tiny=1e-32):\n",
    "    if hasattr(y, 'cat'):\n",
    "        y_bool = y == pos_cat\n",
    "    else:\n",
    "        y_bool = y.astype(bool)\n",
    "    return - 2 * (y_bool * np.log(p_hat + tiny) + (1 - y_bool) * np.log(1 - p_hat + tiny)).mean()\n",
    "\n",
    "\n",
    "def bin_classif_eval_hard_pred(hard_predictions, actuals, pos_cat=None):\n",
    "    if hasattr(hard_predictions, 'cat'):\n",
    "        hard_predictions_bool = hard_predictions == pos_cat\n",
    "    else:\n",
    "        hard_predictions_bool = hard_predictions.astype(bool)\n",
    "\n",
    "    if hasattr(actuals, 'cat'):\n",
    "        actuals_bool = actuals == pos_cat\n",
    "    else:\n",
    "        actuals_bool = actuals.astype(bool)\n",
    "\n",
    "    opposite_hard_predictions_bool = ~ hard_predictions_bool\n",
    "    opposite_actuals_bool = ~ actuals_bool\n",
    "\n",
    "    nb_samples = len(actuals)\n",
    "    nb_pos = sum(actuals_bool)\n",
    "    nb_neg = sum(opposite_actuals_bool)\n",
    "    nb_pred_pos = sum(hard_predictions_bool)\n",
    "    nb_pred_neg = sum(opposite_hard_predictions_bool)\n",
    "    nb_true_pos = sum(hard_predictions_bool & actuals_bool)\n",
    "    nb_true_neg = sum(opposite_hard_predictions_bool & opposite_actuals_bool)\n",
    "    nb_false_pos = sum(hard_predictions_bool & opposite_actuals_bool)\n",
    "    nb_false_neg = sum(opposite_hard_predictions_bool & actuals_bool)\n",
    "\n",
    "    accuracy = (nb_true_pos + nb_true_neg) / nb_samples\n",
    "    recall = nb_true_pos / nb_pos\n",
    "    specificity = nb_true_neg / nb_neg\n",
    "    precision = nb_true_pos / nb_pred_pos\n",
    "    f1_score = (2 * precision * recall) / (precision + recall)\n",
    "\n",
    "    return dict(\n",
    "        accuracy=accuracy,\n",
    "        recall=recall,\n",
    "        specificity=specificity,\n",
    "        precision=precision,\n",
    "        f1_score=f1_score)\n",
    "\n",
    "\n",
    "def bin_classif_eval(predictions, actuals, pos_cat=None, thresholds=.5):\n",
    "    if hasattr(predictions, 'cat') or (predictions.dtype in ('bool', 'int')):\n",
    "        return bin_classif_eval_hard_pred(predictions, actuals, pos_cat=pos_cat)\n",
    "\n",
    "    if isinstance(thresholds, (float, int)):\n",
    "        hard_predictions = predictions >= thresholds\n",
    "        metrics = bin_classif_eval_hard_pred(hard_predictions, actuals, pos_cat=pos_cat)\n",
    "        metrics['deviance'] = bin_class_dev(predictions, actuals, pos_cat=pos_cat)\n",
    "    else:\n",
    "        metrics = pd.DataFrame(columns=['threshold', 'accuracy', 'recall', 'specificity', 'precision', 'f1_score', 'deviance'])\n",
    "        metrics.threshold = thresholds\n",
    "        metrics.fillna(.0, inplace=True)\n",
    "\n",
    "        for i, _ in enumerate(thresholds):\n",
    "            m = bin_classif_eval(predictions, actuals, pos_cat=pos_cat, thresholds=thresholds[i])\n",
    "            m['threshold'] = metrics.loc[i, 'threshold']\n",
    "            metrics.loc[i] = m\n",
    "    \n",
    "    return metrics"
   ]
  },
  {
   "cell_type": "markdown",
   "metadata": {
    "colab_type": "text",
    "id": "-tFFcEFbDChz"
   },
   "source": [
    "## Load Data"
   ]
  },
  {
   "cell_type": "code",
   "execution_count": 5,
   "metadata": {
    "colab": {},
    "colab_type": "code",
    "id": "C6TOi-I8GgM9"
   },
   "outputs": [],
   "source": [
    "target = 'appetency' # churn appetency upselling\n",
    "\n",
    "data_dir = './data/'\n",
    "data_file = 'orange_small_train.data'\n",
    "DATA_PATH = os.path.join(data_dir, data_file)\n",
    "\n",
    "label_file = 'orange_small_train_{}.labels'.format(target)\n",
    "LABEL_PATH = os.path.join(data_dir, label_file)\n",
    "\n",
    "save_dir = './save/'\n",
    "best_features_file = '{}_best_features.csv'.format(target)\n",
    "BEST_FEATURES_PATH = os.path.join(save_dir, best_features_file)\n",
    "\n",
    "model_file = '{}_model.pickle'.format(target)\n",
    "MODEL_PATH = os.path.join(save_dir, model_file)"
   ]
  },
  {
   "cell_type": "code",
   "execution_count": 6,
   "metadata": {
    "colab": {},
    "colab_type": "code",
    "id": "IXYDFH7blkNG"
   },
   "outputs": [
    {
     "data": {
      "text/html": [
       "<div>\n",
       "<style scoped>\n",
       "    .dataframe tbody tr th:only-of-type {\n",
       "        vertical-align: middle;\n",
       "    }\n",
       "\n",
       "    .dataframe tbody tr th {\n",
       "        vertical-align: top;\n",
       "    }\n",
       "\n",
       "    .dataframe thead th {\n",
       "        text-align: right;\n",
       "    }\n",
       "</style>\n",
       "<table border=\"1\" class=\"dataframe\">\n",
       "  <thead>\n",
       "    <tr style=\"text-align: right;\">\n",
       "      <th></th>\n",
       "      <th>Var1</th>\n",
       "      <th>Var2</th>\n",
       "      <th>Var3</th>\n",
       "      <th>Var4</th>\n",
       "      <th>Var5</th>\n",
       "      <th>Var6</th>\n",
       "      <th>Var7</th>\n",
       "      <th>Var8</th>\n",
       "      <th>Var9</th>\n",
       "      <th>Var10</th>\n",
       "      <th>...</th>\n",
       "      <th>Var221</th>\n",
       "      <th>Var222</th>\n",
       "      <th>Var223</th>\n",
       "      <th>Var224</th>\n",
       "      <th>Var225</th>\n",
       "      <th>Var226</th>\n",
       "      <th>Var227</th>\n",
       "      <th>Var228</th>\n",
       "      <th>Var229</th>\n",
       "      <th>Var230</th>\n",
       "    </tr>\n",
       "  </thead>\n",
       "  <tbody>\n",
       "    <tr>\n",
       "      <th>0</th>\n",
       "      <td>NaN</td>\n",
       "      <td>NaN</td>\n",
       "      <td>NaN</td>\n",
       "      <td>NaN</td>\n",
       "      <td>NaN</td>\n",
       "      <td>1526.0</td>\n",
       "      <td>7.0</td>\n",
       "      <td>NaN</td>\n",
       "      <td>NaN</td>\n",
       "      <td>NaN</td>\n",
       "      <td>...</td>\n",
       "      <td>oslk</td>\n",
       "      <td>fXVEsaq</td>\n",
       "      <td>jySVZNlOJy</td>\n",
       "      <td>NaN</td>\n",
       "      <td>NaN</td>\n",
       "      <td>xb3V</td>\n",
       "      <td>RAYp</td>\n",
       "      <td>F2FyR07IdsN7I</td>\n",
       "      <td>NaN</td>\n",
       "      <td>NaN</td>\n",
       "    </tr>\n",
       "    <tr>\n",
       "      <th>1</th>\n",
       "      <td>NaN</td>\n",
       "      <td>NaN</td>\n",
       "      <td>NaN</td>\n",
       "      <td>NaN</td>\n",
       "      <td>NaN</td>\n",
       "      <td>525.0</td>\n",
       "      <td>0.0</td>\n",
       "      <td>NaN</td>\n",
       "      <td>NaN</td>\n",
       "      <td>NaN</td>\n",
       "      <td>...</td>\n",
       "      <td>oslk</td>\n",
       "      <td>2Kb5FSF</td>\n",
       "      <td>LM8l689qOp</td>\n",
       "      <td>NaN</td>\n",
       "      <td>NaN</td>\n",
       "      <td>fKCe</td>\n",
       "      <td>RAYp</td>\n",
       "      <td>F2FyR07IdsN7I</td>\n",
       "      <td>NaN</td>\n",
       "      <td>NaN</td>\n",
       "    </tr>\n",
       "    <tr>\n",
       "      <th>2</th>\n",
       "      <td>NaN</td>\n",
       "      <td>NaN</td>\n",
       "      <td>NaN</td>\n",
       "      <td>NaN</td>\n",
       "      <td>NaN</td>\n",
       "      <td>5236.0</td>\n",
       "      <td>7.0</td>\n",
       "      <td>NaN</td>\n",
       "      <td>NaN</td>\n",
       "      <td>NaN</td>\n",
       "      <td>...</td>\n",
       "      <td>Al6ZaUT</td>\n",
       "      <td>NKv4yOc</td>\n",
       "      <td>jySVZNlOJy</td>\n",
       "      <td>NaN</td>\n",
       "      <td>kG3k</td>\n",
       "      <td>Qu4f</td>\n",
       "      <td>02N6s8f</td>\n",
       "      <td>ib5G6X1eUxUn6</td>\n",
       "      <td>am7c</td>\n",
       "      <td>NaN</td>\n",
       "    </tr>\n",
       "    <tr>\n",
       "      <th>3</th>\n",
       "      <td>NaN</td>\n",
       "      <td>NaN</td>\n",
       "      <td>NaN</td>\n",
       "      <td>NaN</td>\n",
       "      <td>NaN</td>\n",
       "      <td>NaN</td>\n",
       "      <td>0.0</td>\n",
       "      <td>NaN</td>\n",
       "      <td>NaN</td>\n",
       "      <td>NaN</td>\n",
       "      <td>...</td>\n",
       "      <td>oslk</td>\n",
       "      <td>CE7uk3u</td>\n",
       "      <td>LM8l689qOp</td>\n",
       "      <td>NaN</td>\n",
       "      <td>NaN</td>\n",
       "      <td>FSa2</td>\n",
       "      <td>RAYp</td>\n",
       "      <td>F2FyR07IdsN7I</td>\n",
       "      <td>NaN</td>\n",
       "      <td>NaN</td>\n",
       "    </tr>\n",
       "    <tr>\n",
       "      <th>4</th>\n",
       "      <td>NaN</td>\n",
       "      <td>NaN</td>\n",
       "      <td>NaN</td>\n",
       "      <td>NaN</td>\n",
       "      <td>NaN</td>\n",
       "      <td>1029.0</td>\n",
       "      <td>7.0</td>\n",
       "      <td>NaN</td>\n",
       "      <td>NaN</td>\n",
       "      <td>NaN</td>\n",
       "      <td>...</td>\n",
       "      <td>oslk</td>\n",
       "      <td>1J2cvxe</td>\n",
       "      <td>LM8l689qOp</td>\n",
       "      <td>NaN</td>\n",
       "      <td>kG3k</td>\n",
       "      <td>FSa2</td>\n",
       "      <td>RAYp</td>\n",
       "      <td>F2FyR07IdsN7I</td>\n",
       "      <td>mj86</td>\n",
       "      <td>NaN</td>\n",
       "    </tr>\n",
       "  </tbody>\n",
       "</table>\n",
       "<p>5 rows × 230 columns</p>\n",
       "</div>"
      ],
      "text/plain": [
       "   Var1  Var2  Var3  Var4  Var5    Var6  Var7  Var8  Var9  Var10   ...    \\\n",
       "0   NaN   NaN   NaN   NaN   NaN  1526.0   7.0   NaN   NaN    NaN   ...     \n",
       "1   NaN   NaN   NaN   NaN   NaN   525.0   0.0   NaN   NaN    NaN   ...     \n",
       "2   NaN   NaN   NaN   NaN   NaN  5236.0   7.0   NaN   NaN    NaN   ...     \n",
       "3   NaN   NaN   NaN   NaN   NaN     NaN   0.0   NaN   NaN    NaN   ...     \n",
       "4   NaN   NaN   NaN   NaN   NaN  1029.0   7.0   NaN   NaN    NaN   ...     \n",
       "\n",
       "    Var221   Var222      Var223  Var224  Var225  Var226   Var227  \\\n",
       "0     oslk  fXVEsaq  jySVZNlOJy     NaN     NaN    xb3V     RAYp   \n",
       "1     oslk  2Kb5FSF  LM8l689qOp     NaN     NaN    fKCe     RAYp   \n",
       "2  Al6ZaUT  NKv4yOc  jySVZNlOJy     NaN    kG3k    Qu4f  02N6s8f   \n",
       "3     oslk  CE7uk3u  LM8l689qOp     NaN     NaN    FSa2     RAYp   \n",
       "4     oslk  1J2cvxe  LM8l689qOp     NaN    kG3k    FSa2     RAYp   \n",
       "\n",
       "          Var228  Var229  Var230  \n",
       "0  F2FyR07IdsN7I     NaN     NaN  \n",
       "1  F2FyR07IdsN7I     NaN     NaN  \n",
       "2  ib5G6X1eUxUn6    am7c     NaN  \n",
       "3  F2FyR07IdsN7I     NaN     NaN  \n",
       "4  F2FyR07IdsN7I    mj86     NaN  \n",
       "\n",
       "[5 rows x 230 columns]"
      ]
     },
     "execution_count": 6,
     "metadata": {},
     "output_type": "execute_result"
    }
   ],
   "source": [
    "df = pd.read_csv(DATA_PATH, delimiter='\\t')\n",
    "df.head()"
   ]
  },
  {
   "cell_type": "code",
   "execution_count": 7,
   "metadata": {
    "colab": {},
    "colab_type": "code",
    "id": "Zs-0mE-9Deaj"
   },
   "outputs": [
    {
     "data": {
      "text/html": [
       "<div>\n",
       "<style scoped>\n",
       "    .dataframe tbody tr th:only-of-type {\n",
       "        vertical-align: middle;\n",
       "    }\n",
       "\n",
       "    .dataframe tbody tr th {\n",
       "        vertical-align: top;\n",
       "    }\n",
       "\n",
       "    .dataframe thead th {\n",
       "        text-align: right;\n",
       "    }\n",
       "</style>\n",
       "<table border=\"1\" class=\"dataframe\">\n",
       "  <thead>\n",
       "    <tr style=\"text-align: right;\">\n",
       "      <th></th>\n",
       "      <th>0</th>\n",
       "    </tr>\n",
       "  </thead>\n",
       "  <tbody>\n",
       "    <tr>\n",
       "      <th>0</th>\n",
       "      <td>no</td>\n",
       "    </tr>\n",
       "    <tr>\n",
       "      <th>1</th>\n",
       "      <td>no</td>\n",
       "    </tr>\n",
       "    <tr>\n",
       "      <th>2</th>\n",
       "      <td>no</td>\n",
       "    </tr>\n",
       "    <tr>\n",
       "      <th>3</th>\n",
       "      <td>no</td>\n",
       "    </tr>\n",
       "    <tr>\n",
       "      <th>4</th>\n",
       "      <td>no</td>\n",
       "    </tr>\n",
       "  </tbody>\n",
       "</table>\n",
       "</div>"
      ],
      "text/plain": [
       "    0\n",
       "0  no\n",
       "1  no\n",
       "2  no\n",
       "3  no\n",
       "4  no"
      ]
     },
     "execution_count": 7,
     "metadata": {},
     "output_type": "execute_result"
    }
   ],
   "source": [
    "df_label = pd.read_table(LABEL_PATH, header=None)\n",
    "df_label[0] = df_label[0].astype('category').cat.rename_categories(['no', 'yes'])\n",
    "df_label.head()"
   ]
  },
  {
   "cell_type": "markdown",
   "metadata": {
    "colab_type": "text",
    "id": "t2chhyNU9V_v"
   },
   "source": [
    "## Data Cleaning"
   ]
  },
  {
   "cell_type": "code",
   "execution_count": 8,
   "metadata": {
    "colab": {
     "base_uri": "https://localhost:8080/",
     "height": 34
    },
    "colab_type": "code",
    "id": "iEKsopesv0ew",
    "outputId": "3df7ef7b-8d1a-459d-ba63-e5a628cf63ca"
   },
   "outputs": [
    {
     "data": {
      "text/plain": [
       "array(['float64', 'category'], dtype=object)"
      ]
     },
     "execution_count": 8,
     "metadata": {},
     "output_type": "execute_result"
    }
   ],
   "source": [
    "df_columns = df.columns\n",
    "\n",
    "for column in df_columns:\n",
    "  series = df[column]\n",
    "  tp = series.dtype\n",
    "  if tp == int:\n",
    "    df[column] = series.astype(float)\n",
    "  elif tp != float:\n",
    "    df[column] = series.astype('category')\n",
    "    \n",
    "columns_type = pd.Series([str(df[column].dtype) for column in df_columns]) \n",
    "columns_type.unique()"
   ]
  },
  {
   "cell_type": "markdown",
   "metadata": {
    "colab_type": "text",
    "id": "2AKuTwUF-6kA"
   },
   "source": [
    "### Cleaning columns with high frequency of missing values"
   ]
  },
  {
   "cell_type": "code",
   "execution_count": 9,
   "metadata": {
    "colab": {
     "base_uri": "https://localhost:8080/",
     "height": 374
    },
    "colab_type": "code",
    "id": "qAi3p2-cxA-j",
    "outputId": "df83b71f-8c57-47c6-f39d-d296286bf8ed"
   },
   "outputs": [
    {
     "data": {
      "text/plain": [
       "Text(0.5,1,'Missing values frequency proportion')"
      ]
     },
     "execution_count": 9,
     "metadata": {},
     "output_type": "execute_result"
    },
    {
     "data": {
      "image/png": "[encoded data removed]",
      "text/plain": [
       "<Figure size 720x432 with 1 Axes>"
      ]
     },
     "metadata": {},
     "output_type": "display_data"
    }
   ],
   "source": [
    "num_rows = len(df.index)\n",
    "columns_null_freq = df.isnull().sum() / num_rows\n",
    "columns_null_freq.sort_values().plot()\n",
    "title('Missing values frequency proportion')\n",
    "# savefig('./graphs/missing_values.png')"
   ]
  },
  {
   "cell_type": "code",
   "execution_count": 10,
   "metadata": {
    "colab": {
     "base_uri": "https://localhost:8080/",
     "height": 34
    },
    "colab_type": "code",
    "id": "Ir2Jgzzcx558",
    "outputId": "e151b560-6739-4d4e-cc5c-e4c2d990d3d8"
   },
   "outputs": [
    {
     "data": {
      "text/plain": [
       "66"
      ]
     },
     "execution_count": 10,
     "metadata": {},
     "output_type": "execute_result"
    }
   ],
   "source": [
    "low_null_freq_columns = columns_null_freq[columns_null_freq < .2].index\n",
    "df_c = df[low_null_freq_columns]\n",
    "df_c_columns = df_c.columns\n",
    "len(df_c_columns)"
   ]
  },
  {
   "cell_type": "markdown",
   "metadata": {
    "colab_type": "text",
    "id": "LwG0bWBYA3UK"
   },
   "source": [
    "### Cleaning float columns"
   ]
  },
  {
   "cell_type": "markdown",
   "metadata": {},
   "source": [
    "Looking for flot columns with no variation"
   ]
  },
  {
   "cell_type": "code",
   "execution_count": 11,
   "metadata": {
    "colab": {},
    "colab_type": "code",
    "id": "kWJdqQmwySX_"
   },
   "outputs": [],
   "source": [
    "float_columns = [column for column in df_c_columns if df_c[column].dtype == float]\n",
    "df_float_columns = df_c[float_columns]"
   ]
  },
  {
   "cell_type": "code",
   "execution_count": 12,
   "metadata": {
    "colab": {
     "base_uri": "https://localhost:8080/",
     "height": 34
    },
    "colab_type": "code",
    "id": "tHC05Nwf8-3B",
    "outputId": "d4bec7fb-19cb-4af5-ca18-3c58549d5a29"
   },
   "outputs": [
    {
     "data": {
      "text/plain": [
       "0"
      ]
     },
     "execution_count": 12,
     "metadata": {},
     "output_type": "execute_result"
    }
   ],
   "source": [
    "columns_deviation = df_float_columns.std()\n",
    "len(columns_deviation[columns_deviation == 0])"
   ]
  },
  {
   "cell_type": "markdown",
   "metadata": {},
   "source": [
    "Filling nan values with the column mean"
   ]
  },
  {
   "cell_type": "code",
   "execution_count": 13,
   "metadata": {
    "colab": {
     "base_uri": "https://localhost:8080/",
     "height": 34
    },
    "colab_type": "code",
    "id": "gt_YpqijCwf3",
    "outputId": "31a2ed58-3405-4223-db17-ac17501b2fcb"
   },
   "outputs": [
    {
     "name": "stderr",
     "output_type": "stream",
     "text": [
      "c:\\users\\yurih\\appdata\\local\\programs\\python\\python36\\lib\\site-packages\\pandas\\core\\generic.py:5434: SettingWithCopyWarning: \n",
      "A value is trying to be set on a copy of a slice from a DataFrame\n",
      "\n",
      "See the caveats in the documentation: http://pandas.pydata.org/pandas-docs/stable/indexing.html#indexing-view-versus-copy\n",
      "  self._update_inplace(new_data)\n"
     ]
    },
    {
     "data": {
      "text/plain": [
       "0"
      ]
     },
     "execution_count": 13,
     "metadata": {},
     "output_type": "execute_result"
    }
   ],
   "source": [
    "df_float_columns.fillna(df_float_columns.mean(), inplace=True)\n",
    "df_float_columns.isnull().sum().sum()"
   ]
  },
  {
   "cell_type": "markdown",
   "metadata": {},
   "source": [
    "Assert that the columns mean don't change"
   ]
  },
  {
   "cell_type": "code",
   "execution_count": 14,
   "metadata": {
    "colab": {
     "base_uri": "https://localhost:8080/",
     "height": 34
    },
    "colab_type": "code",
    "id": "WsEZow2YDGoj",
    "outputId": "60a00033-bd4a-4154-a05d-21a6807d45f8"
   },
   "outputs": [
    {
     "data": {
      "text/plain": [
       "True"
      ]
     },
     "execution_count": 14,
     "metadata": {},
     "output_type": "execute_result"
    }
   ],
   "source": [
    "np.allclose(df_c[float_columns].mean(), df_float_columns.mean())"
   ]
  },
  {
   "cell_type": "markdown",
   "metadata": {
    "colab_type": "text",
    "id": "o4wUH8iBHbMr"
   },
   "source": [
    "### Cleaning categorical columns"
   ]
  },
  {
   "cell_type": "code",
   "execution_count": 15,
   "metadata": {
    "colab": {},
    "colab_type": "code",
    "id": "eyWvWOgGHO0c"
   },
   "outputs": [],
   "source": [
    "category_columns = [column for column in df_c_columns if str(df_c[column].dtype) == 'category']\n",
    "df_category_columns = df_c[category_columns]"
   ]
  },
  {
   "cell_type": "markdown",
   "metadata": {},
   "source": [
    "Removing columns with the number of categories above 1000"
   ]
  },
  {
   "cell_type": "code",
   "execution_count": 16,
   "metadata": {
    "colab": {
     "base_uri": "https://localhost:8080/",
     "height": 413
    },
    "colab_type": "code",
    "id": "_9XJgoamH_k0",
    "outputId": "739d7f8f-a1a7-4aae-cec7-a8563664d6ea"
   },
   "outputs": [
    {
     "data": {
      "text/plain": [
       "Text(0.5,1,'Number of categories by column')"
      ]
     },
     "execution_count": 16,
     "metadata": {},
     "output_type": "execute_result"
    },
    {
     "data": {
      "image/png": "[encoded data removed]",
      "text/plain": [
       "<Figure size 720x432 with 1 Axes>"
      ]
     },
     "metadata": {},
     "output_type": "display_data"
    }
   ],
   "source": [
    "category_limit = 1000\n",
    "num_categories_columns = df_category_columns.apply(lambda x: len(x.cat.categories))\n",
    "ax = num_categories_columns.sort_values().plot.bar()\n",
    "ax.axhline(category_limit, color='k', linestyle='dashed')\n",
    "\n",
    "title('Number of categories by column')\n",
    "# savefig('./graphs/num_categories_columns.png')"
   ]
  },
  {
   "cell_type": "code",
   "execution_count": 17,
   "metadata": {
    "colab": {
     "base_uri": "https://localhost:8080/",
     "height": 34
    },
    "colab_type": "code",
    "id": "ZV3dWz9kIw5E",
    "outputId": "57128471-f6a5-4308-e7b1-4d2a628d243f"
   },
   "outputs": [
    {
     "data": {
      "text/plain": [
       "22"
      ]
     },
     "execution_count": 17,
     "metadata": {},
     "output_type": "execute_result"
    }
   ],
   "source": [
    "relevant_category_columns = num_categories_columns[num_categories_columns < category_limit].index\n",
    "df_category_columns = df_category_columns[relevant_category_columns]\n",
    "len(relevant_category_columns)"
   ]
  },
  {
   "cell_type": "markdown",
   "metadata": {},
   "source": [
    "Setting 2 new categories for all columns:\n",
    "- NULL: for blank data\n",
    "- OTHER: to replace categories with less than 5% of representativity\n",
    "\n",
    "After that, columns with less than two categories will be removed, the new categories don't count."
   ]
  },
  {
   "cell_type": "code",
   "execution_count": 18,
   "metadata": {
    "colab": {},
    "colab_type": "code",
    "id": "xRC1Ik0iN5K-"
   },
   "outputs": [
    {
     "name": "stdout",
     "output_type": "stream",
     "text": [
      "Done!\n"
     ]
    }
   ],
   "source": [
    "MIN_FREQ_RATE = .05\n",
    "NULL_CATEGORY_LABEL = '__NULL__'\n",
    "OTHER_CATEGORY_LABEL = '__OTHER__'\n",
    "\n",
    "df_category_columns_refactored = df_category_columns.copy()\n",
    "valid_category_columns = []\n",
    "\n",
    "for column in relevant_category_columns:\n",
    "  series = df_category_columns_refactored[column]\n",
    "  series_null = series.isnull()\n",
    "  if series_null.sum() > 0:\n",
    "    series.cat.add_categories(NULL_CATEGORY_LABEL, inplace=True)\n",
    "    series.fillna(NULL_CATEGORY_LABEL, inplace=True)\n",
    "    \n",
    "  categories_freq = series.groupby(series).count() / len(series)\n",
    "  low_freq = categories_freq[categories_freq < MIN_FREQ_RATE].index\n",
    "  if len(low_freq) > 0:\n",
    "    series.cat.add_categories(OTHER_CATEGORY_LABEL, inplace=True)\n",
    "    series.replace(low_freq, OTHER_CATEGORY_LABEL, inplace=True)\n",
    "    series.cat.remove_categories(low_freq, inplace=True)\n",
    "  \n",
    "  df_category_columns_refactored[column] = series\n",
    "  # Get columns that have at least 2 categories along\n",
    "  # side the new ones (NULL, OTHER).\n",
    "  categories = series.cat.categories\n",
    "  old_categories = set(categories) - set([NULL_CATEGORY_LABEL, OTHER_CATEGORY_LABEL])\n",
    "  if len(old_categories) > 1:\n",
    "    valid_category_columns.append(column)\n",
    "  \n",
    "df_category_columns_refactored = df_category_columns_refactored[valid_category_columns]\n",
    "print('Done!')"
   ]
  },
  {
   "cell_type": "code",
   "execution_count": 19,
   "metadata": {
    "colab": {
     "base_uri": "https://localhost:8080/",
     "height": 85
    },
    "colab_type": "code",
    "id": "P7Zr8yq4Yz90",
    "outputId": "ec523c90-f594-4e78-c1e4-f09105a23a3c"
   },
   "outputs": [
    {
     "name": "stdout",
     "output_type": "stream",
     "text": [
      "Var193\n",
      "2Knk1KF      0.14542\n",
      "RO12         0.71928\n",
      "__OTHER__    0.13530\n",
      "Name: Var193, dtype: float64 \n",
      " --------------------------------------------------\n",
      "Var197\n",
      "0Xwj         0.09258\n",
      "487l         0.07154\n",
      "JLbT         0.05956\n",
      "TyGl         0.08370\n",
      "__OTHER__    0.60322\n",
      "lK27         0.08940\n",
      "Name: Var197, dtype: float64 \n",
      " --------------------------------------------------\n",
      "Var203\n",
      "9_Y1         0.90466\n",
      "HLqf         0.06336\n",
      "__OTHER__    0.03198\n",
      "Name: Var203, dtype: float64 \n",
      " --------------------------------------------------\n",
      "Var205\n",
      "09_Q         0.23148\n",
      "VpdQ         0.63924\n",
      "__OTHER__    0.03868\n",
      "sJzTlal      0.09060\n",
      "Name: Var205, dtype: float64 \n",
      " --------------------------------------------------\n",
      "Var206\n",
      "IYzP         0.34548\n",
      "__NULL__     0.11058\n",
      "__OTHER__    0.22090\n",
      "hAFG         0.05626\n",
      "haYg         0.05802\n",
      "sYC_         0.08006\n",
      "zm5i         0.12870\n",
      "Name: Var206, dtype: float64 \n",
      " --------------------------------------------------\n",
      "Var207\n",
      "7M47J5GA0pTYIFxg5uy          0.13778\n",
      "DHn_WUyBhW_whjA88g9bvA64_    0.07006\n",
      "me75fM6ugJ                   0.70158\n",
      "__OTHER__                    0.09058\n",
      "Name: Var207, dtype: float64 \n",
      " --------------------------------------------------\n",
      "Var208\n",
      "__OTHER__    0.00286\n",
      "kIsH         0.92044\n",
      "sBgB         0.07670\n",
      "Name: Var208, dtype: float64 \n",
      " --------------------------------------------------\n",
      "Var211\n",
      "L84s    0.80598\n",
      "Mtgm    0.19402\n",
      "Name: Var211, dtype: float64 \n",
      " --------------------------------------------------\n",
      "Var212\n",
      "CrNX             0.05984\n",
      "NhsEn4L          0.58606\n",
      "XfqtO3UdzaXh_    0.12866\n",
      "__OTHER__        0.22544\n",
      "Name: Var212, dtype: float64 \n",
      " --------------------------------------------------\n",
      "Var218\n",
      "UYBR         0.47956\n",
      "__OTHER__    0.01406\n",
      "cJvF         0.50638\n",
      "Name: Var218, dtype: float64 \n",
      " --------------------------------------------------\n",
      "Var221\n",
      "d0EEeJi      0.06120\n",
      "oslk         0.74018\n",
      "zCkv         0.12398\n",
      "__OTHER__    0.07464\n",
      "Name: Var221, dtype: float64 \n",
      " --------------------------------------------------\n",
      "Var223\n",
      "LM8l689qOp    0.73216\n",
      "__NULL__      0.10422\n",
      "__OTHER__     0.04372\n",
      "jySVZNlOJy    0.11990\n",
      "Name: Var223, dtype: float64 \n",
      " --------------------------------------------------\n",
      "Var226\n",
      "7P5s         0.05606\n",
      "Aoh3         0.05218\n",
      "FSa2         0.16062\n",
      "Qu4f         0.09664\n",
      "WqMG         0.08352\n",
      "fKCe         0.05228\n",
      "szEZ         0.05912\n",
      "__OTHER__    0.43958\n",
      "Name: Var226, dtype: float64 \n",
      " --------------------------------------------------\n",
      "Var227\n",
      "6fzt         0.06852\n",
      "RAYp         0.70312\n",
      "ZI9m         0.12306\n",
      "__OTHER__    0.10530\n",
      "Name: Var227, dtype: float64 \n",
      " --------------------------------------------------\n",
      "Var228\n",
      "55YFVY9          0.08708\n",
      "F2FyR07IdsN7I    0.65406\n",
      "ib5G6X1eUxUn6    0.05344\n",
      "__OTHER__        0.20542\n",
      "Name: Var228, dtype: float64 \n",
      " --------------------------------------------------\n"
     ]
    }
   ],
   "source": [
    "for column in df_category_columns_refactored.columns:\n",
    "  s = df_category_columns_refactored[column]\n",
    "  new_cf = s.groupby(s).count() / len(s)\n",
    "  print(new_cf, '\\n', '-'*50)"
   ]
  },
  {
   "cell_type": "code",
   "execution_count": 20,
   "metadata": {
    "colab": {
     "base_uri": "https://localhost:8080/",
     "height": 34
    },
    "colab_type": "code",
    "id": "njxKdYA23WO6",
    "outputId": "27995e15-5511-48e3-c2d3-03940625614b"
   },
   "outputs": [
    {
     "data": {
      "text/plain": [
       "15"
      ]
     },
     "execution_count": 20,
     "metadata": {},
     "output_type": "execute_result"
    }
   ],
   "source": [
    "df_category_columns = df_category_columns_refactored\n",
    "len(df_category_columns.columns)"
   ]
  },
  {
   "cell_type": "markdown",
   "metadata": {
    "colab_type": "text",
    "id": "Eigw2YYe4xQS"
   },
   "source": [
    "### Join float and categorical columns"
   ]
  },
  {
   "cell_type": "code",
   "execution_count": 21,
   "metadata": {
    "colab": {
     "base_uri": "https://localhost:8080/",
     "height": 34
    },
    "colab_type": "code",
    "id": "ydIo45dwY2LO",
    "outputId": "65470e4a-f040-46c6-aaf5-a0832e189b50"
   },
   "outputs": [
    {
     "data": {
      "text/plain": [
       "52"
      ]
     },
     "execution_count": 21,
     "metadata": {},
     "output_type": "execute_result"
    }
   ],
   "source": [
    "df_treated = pd.concat([df_float_columns, df_category_columns], axis=1)\n",
    "len(df_treated.columns)"
   ]
  },
  {
   "cell_type": "code",
   "execution_count": 22,
   "metadata": {
    "colab": {
     "base_uri": "https://localhost:8080/",
     "height": 34
    },
    "colab_type": "code",
    "id": "SXZ6_34TvnBx",
    "outputId": "a3e0c31a-f336-47c2-a010-840fcd1bab3b"
   },
   "outputs": [
    {
     "data": {
      "text/plain": [
       "array(['float64', 'category'], dtype=object)"
      ]
     },
     "execution_count": 22,
     "metadata": {},
     "output_type": "execute_result"
    }
   ],
   "source": [
    "df_columns = df.columns\n",
    "columns_type = pd.Series([str(df[column].dtype) for column in df_columns]) \n",
    "columns_type.unique()"
   ]
  },
  {
   "cell_type": "markdown",
   "metadata": {
    "colab_type": "text",
    "id": "N-vo1NHt1TOx"
   },
   "source": [
    "## Spliting train and test data"
   ]
  },
  {
   "cell_type": "code",
   "execution_count": 49,
   "metadata": {},
   "outputs": [
    {
     "data": {
      "text/plain": [
       "15000"
      ]
     },
     "execution_count": 49,
     "metadata": {},
     "output_type": "execute_result"
    }
   ],
   "source": [
    "TEST_DATA_SIZE = .6\n",
    "\n",
    "sss = StratifiedShuffleSplit(n_splits=5, test_size=TEST_DATA_SIZE)\n",
    "for train_index, test_index in sss.split(df_treated, df_label):\n",
    "  X_train_valid, X_test = df_treated.iloc[train_index, :], df_treated.iloc[test_index, :]\n",
    "  y_train_valid, y_test = df_label.iloc[train_index], df_label.loc[test_index]\n",
    "\n",
    "VALID_DATA_SIZE = .25\n",
    "\n",
    "sss = StratifiedShuffleSplit(n_splits=5, test_size=VALID_DATA_SIZE)\n",
    "for train_index, valid_index in sss.split(X_train_valid, y_train_valid):\n",
    "  X_train, X_valid = X_train_valid.iloc[train_index, :], X_train_valid.iloc[valid_index, :]\n",
    "  y_train, y_valid = y_train_valid.iloc[train_index], y_train_valid.iloc[valid_index]\n",
    "\n",
    "len(X_train)"
   ]
  },
  {
   "cell_type": "markdown",
   "metadata": {},
   "source": [
    "## Selecting the best combination of features"
   ]
  },
  {
   "cell_type": "code",
   "execution_count": 24,
   "metadata": {
    "colab": {},
    "colab_type": "code",
    "id": "0LxViU-p7et3"
   },
   "outputs": [],
   "source": [
    "def get_RFC_model():\n",
    "  B = 30\n",
    "  return RandomForestClassifier(\n",
    "    n_estimators=B,\n",
    "    criterion='entropy',\n",
    "    max_depth=None,   # expand until all leaves are pure or contain < MIN_SAMPLES_SPLIT samples\n",
    "    min_samples_split=300,\n",
    "    min_samples_leaf=150,\n",
    "    min_weight_fraction_leaf=0.0,\n",
    "    max_features=None,   # number of features to consider when looking for the best split; None: max_features=n_features\n",
    "    max_leaf_nodes=None,   # None: unlimited number of leaf nodes\n",
    "    bootstrap=True,\n",
    "    oob_score=True,   # estimate Out-of-Bag Cross Entropy\n",
    "#     n_jobs=cpu_count() - 2,   # paralellize over all CPU cores but 2\n",
    "    class_weight=None,\n",
    "#     random_state=RANDOM_SEED,\n",
    "    verbose=0,\n",
    "    warm_start=False\n",
    "  )"
   ]
  },
  {
   "cell_type": "markdown",
   "metadata": {},
   "source": [
    "Compute the performance for each pair of column in a Random Florest model. Using the train and validation data"
   ]
  },
  {
   "cell_type": "code",
   "execution_count": 29,
   "metadata": {
    "colab": {},
    "colab_type": "code",
    "id": "ZEpcnQ1CSuYc"
   },
   "outputs": [
    {
     "data": {
      "text/html": [
       "\n",
       "          <progress\n",
       "              value='1326'\n",
       "              max='1326',\n",
       "              style='width: 100%'\n",
       "          >\n",
       "              1326\n",
       "          </progress>\n",
       "      "
      ],
      "text/plain": [
       "<IPython.core.display.HTML object>"
      ]
     },
     "metadata": {},
     "output_type": "display_data"
    },
    {
     "name": "stderr",
     "output_type": "stream",
     "text": [
      "c:\\users\\yurih\\appdata\\local\\programs\\python\\python36\\lib\\site-packages\\sklearn\\ensemble\\forest.py:453: UserWarning: Some inputs do not have OOB scores. This probably means too few trees were used to compute any reliable oob estimates.\n",
      "  warn(\"Some inputs do not have OOB scores. \"\n",
      "c:\\users\\yurih\\appdata\\local\\programs\\python\\python36\\lib\\site-packages\\sklearn\\ensemble\\forest.py:458: RuntimeWarning: invalid value encountered in true_divide\n",
      "  predictions[k].sum(axis=1)[:, np.newaxis])\n",
      "c:\\users\\yurih\\appdata\\local\\programs\\python\\python36\\lib\\site-packages\\sklearn\\ensemble\\forest.py:453: UserWarning: Some inputs do not have OOB scores. This probably means too few trees were used to compute any reliable oob estimates.\n",
      "  warn(\"Some inputs do not have OOB scores. \"\n",
      "c:\\users\\yurih\\appdata\\local\\programs\\python\\python36\\lib\\site-packages\\sklearn\\ensemble\\forest.py:458: RuntimeWarning: invalid value encountered in true_divide\n",
      "  predictions[k].sum(axis=1)[:, np.newaxis])\n",
      "c:\\users\\yurih\\appdata\\local\\programs\\python\\python36\\lib\\site-packages\\sklearn\\ensemble\\forest.py:453: UserWarning: Some inputs do not have OOB scores. This probably means too few trees were used to compute any reliable oob estimates.\n",
      "  warn(\"Some inputs do not have OOB scores. \"\n",
      "c:\\users\\yurih\\appdata\\local\\programs\\python\\python36\\lib\\site-packages\\sklearn\\ensemble\\forest.py:458: RuntimeWarning: invalid value encountered in true_divide\n",
      "  predictions[k].sum(axis=1)[:, np.newaxis])\n",
      "c:\\users\\yurih\\appdata\\local\\programs\\python\\python36\\lib\\site-packages\\sklearn\\ensemble\\forest.py:453: UserWarning: Some inputs do not have OOB scores. This probably means too few trees were used to compute any reliable oob estimates.\n",
      "  warn(\"Some inputs do not have OOB scores. \"\n",
      "c:\\users\\yurih\\appdata\\local\\programs\\python\\python36\\lib\\site-packages\\sklearn\\ensemble\\forest.py:458: RuntimeWarning: invalid value encountered in true_divide\n",
      "  predictions[k].sum(axis=1)[:, np.newaxis])\n",
      "c:\\users\\yurih\\appdata\\local\\programs\\python\\python36\\lib\\site-packages\\sklearn\\ensemble\\forest.py:453: UserWarning: Some inputs do not have OOB scores. This probably means too few trees were used to compute any reliable oob estimates.\n",
      "  warn(\"Some inputs do not have OOB scores. \"\n",
      "c:\\users\\yurih\\appdata\\local\\programs\\python\\python36\\lib\\site-packages\\sklearn\\ensemble\\forest.py:458: RuntimeWarning: invalid value encountered in true_divide\n",
      "  predictions[k].sum(axis=1)[:, np.newaxis])\n",
      "c:\\users\\yurih\\appdata\\local\\programs\\python\\python36\\lib\\site-packages\\sklearn\\ensemble\\forest.py:453: UserWarning: Some inputs do not have OOB scores. This probably means too few trees were used to compute any reliable oob estimates.\n",
      "  warn(\"Some inputs do not have OOB scores. \"\n",
      "c:\\users\\yurih\\appdata\\local\\programs\\python\\python36\\lib\\site-packages\\sklearn\\ensemble\\forest.py:458: RuntimeWarning: invalid value encountered in true_divide\n",
      "  predictions[k].sum(axis=1)[:, np.newaxis])\n",
      "c:\\users\\yurih\\appdata\\local\\programs\\python\\python36\\lib\\site-packages\\sklearn\\ensemble\\forest.py:453: UserWarning: Some inputs do not have OOB scores. This probably means too few trees were used to compute any reliable oob estimates.\n",
      "  warn(\"Some inputs do not have OOB scores. \"\n",
      "c:\\users\\yurih\\appdata\\local\\programs\\python\\python36\\lib\\site-packages\\sklearn\\ensemble\\forest.py:458: RuntimeWarning: invalid value encountered in true_divide\n",
      "  predictions[k].sum(axis=1)[:, np.newaxis])\n",
      "c:\\users\\yurih\\appdata\\local\\programs\\python\\python36\\lib\\site-packages\\sklearn\\ensemble\\forest.py:453: UserWarning: Some inputs do not have OOB scores. This probably means too few trees were used to compute any reliable oob estimates.\n",
      "  warn(\"Some inputs do not have OOB scores. \"\n",
      "c:\\users\\yurih\\appdata\\local\\programs\\python\\python36\\lib\\site-packages\\sklearn\\ensemble\\forest.py:458: RuntimeWarning: invalid value encountered in true_divide\n",
      "  predictions[k].sum(axis=1)[:, np.newaxis])\n",
      "c:\\users\\yurih\\appdata\\local\\programs\\python\\python36\\lib\\site-packages\\sklearn\\ensemble\\forest.py:453: UserWarning: Some inputs do not have OOB scores. This probably means too few trees were used to compute any reliable oob estimates.\n",
      "  warn(\"Some inputs do not have OOB scores. \"\n",
      "c:\\users\\yurih\\appdata\\local\\programs\\python\\python36\\lib\\site-packages\\sklearn\\ensemble\\forest.py:458: RuntimeWarning: invalid value encountered in true_divide\n",
      "  predictions[k].sum(axis=1)[:, np.newaxis])\n",
      "c:\\users\\yurih\\appdata\\local\\programs\\python\\python36\\lib\\site-packages\\sklearn\\ensemble\\forest.py:453: UserWarning: Some inputs do not have OOB scores. This probably means too few trees were used to compute any reliable oob estimates.\n",
      "  warn(\"Some inputs do not have OOB scores. \"\n",
      "c:\\users\\yurih\\appdata\\local\\programs\\python\\python36\\lib\\site-packages\\sklearn\\ensemble\\forest.py:458: RuntimeWarning: invalid value encountered in true_divide\n",
      "  predictions[k].sum(axis=1)[:, np.newaxis])\n",
      "c:\\users\\yurih\\appdata\\local\\programs\\python\\python36\\lib\\site-packages\\sklearn\\ensemble\\forest.py:453: UserWarning: Some inputs do not have OOB scores. This probably means too few trees were used to compute any reliable oob estimates.\n",
      "  warn(\"Some inputs do not have OOB scores. \"\n",
      "c:\\users\\yurih\\appdata\\local\\programs\\python\\python36\\lib\\site-packages\\sklearn\\ensemble\\forest.py:458: RuntimeWarning: invalid value encountered in true_divide\n",
      "  predictions[k].sum(axis=1)[:, np.newaxis])\n",
      "c:\\users\\yurih\\appdata\\local\\programs\\python\\python36\\lib\\site-packages\\sklearn\\ensemble\\forest.py:453: UserWarning: Some inputs do not have OOB scores. This probably means too few trees were used to compute any reliable oob estimates.\n",
      "  warn(\"Some inputs do not have OOB scores. \"\n",
      "c:\\users\\yurih\\appdata\\local\\programs\\python\\python36\\lib\\site-packages\\sklearn\\ensemble\\forest.py:458: RuntimeWarning: invalid value encountered in true_divide\n",
      "  predictions[k].sum(axis=1)[:, np.newaxis])\n",
      "c:\\users\\yurih\\appdata\\local\\programs\\python\\python36\\lib\\site-packages\\sklearn\\ensemble\\forest.py:453: UserWarning: Some inputs do not have OOB scores. This probably means too few trees were used to compute any reliable oob estimates.\n",
      "  warn(\"Some inputs do not have OOB scores. \"\n",
      "c:\\users\\yurih\\appdata\\local\\programs\\python\\python36\\lib\\site-packages\\sklearn\\ensemble\\forest.py:458: RuntimeWarning: invalid value encountered in true_divide\n",
      "  predictions[k].sum(axis=1)[:, np.newaxis])\n",
      "c:\\users\\yurih\\appdata\\local\\programs\\python\\python36\\lib\\site-packages\\sklearn\\ensemble\\forest.py:453: UserWarning: Some inputs do not have OOB scores. This probably means too few trees were used to compute any reliable oob estimates.\n",
      "  warn(\"Some inputs do not have OOB scores. \"\n",
      "c:\\users\\yurih\\appdata\\local\\programs\\python\\python36\\lib\\site-packages\\sklearn\\ensemble\\forest.py:458: RuntimeWarning: invalid value encountered in true_divide\n",
      "  predictions[k].sum(axis=1)[:, np.newaxis])\n",
      "c:\\users\\yurih\\appdata\\local\\programs\\python\\python36\\lib\\site-packages\\sklearn\\ensemble\\forest.py:453: UserWarning: Some inputs do not have OOB scores. This probably means too few trees were used to compute any reliable oob estimates.\n",
      "  warn(\"Some inputs do not have OOB scores. \"\n",
      "c:\\users\\yurih\\appdata\\local\\programs\\python\\python36\\lib\\site-packages\\sklearn\\ensemble\\forest.py:458: RuntimeWarning: invalid value encountered in true_divide\n",
      "  predictions[k].sum(axis=1)[:, np.newaxis])\n",
      "c:\\users\\yurih\\appdata\\local\\programs\\python\\python36\\lib\\site-packages\\sklearn\\ensemble\\forest.py:453: UserWarning: Some inputs do not have OOB scores. This probably means too few trees were used to compute any reliable oob estimates.\n",
      "  warn(\"Some inputs do not have OOB scores. \"\n",
      "c:\\users\\yurih\\appdata\\local\\programs\\python\\python36\\lib\\site-packages\\sklearn\\ensemble\\forest.py:458: RuntimeWarning: invalid value encountered in true_divide\n",
      "  predictions[k].sum(axis=1)[:, np.newaxis])\n",
      "c:\\users\\yurih\\appdata\\local\\programs\\python\\python36\\lib\\site-packages\\sklearn\\ensemble\\forest.py:453: UserWarning: Some inputs do not have OOB scores. This probably means too few trees were used to compute any reliable oob estimates.\n",
      "  warn(\"Some inputs do not have OOB scores. \"\n",
      "c:\\users\\yurih\\appdata\\local\\programs\\python\\python36\\lib\\site-packages\\sklearn\\ensemble\\forest.py:458: RuntimeWarning: invalid value encountered in true_divide\n",
      "  predictions[k].sum(axis=1)[:, np.newaxis])\n"
     ]
    },
    {
     "name": "stderr",
     "output_type": "stream",
     "text": [
      "c:\\users\\yurih\\appdata\\local\\programs\\python\\python36\\lib\\site-packages\\sklearn\\ensemble\\forest.py:453: UserWarning: Some inputs do not have OOB scores. This probably means too few trees were used to compute any reliable oob estimates.\n",
      "  warn(\"Some inputs do not have OOB scores. \"\n",
      "c:\\users\\yurih\\appdata\\local\\programs\\python\\python36\\lib\\site-packages\\sklearn\\ensemble\\forest.py:458: RuntimeWarning: invalid value encountered in true_divide\n",
      "  predictions[k].sum(axis=1)[:, np.newaxis])\n",
      "c:\\users\\yurih\\appdata\\local\\programs\\python\\python36\\lib\\site-packages\\sklearn\\ensemble\\forest.py:453: UserWarning: Some inputs do not have OOB scores. This probably means too few trees were used to compute any reliable oob estimates.\n",
      "  warn(\"Some inputs do not have OOB scores. \"\n",
      "c:\\users\\yurih\\appdata\\local\\programs\\python\\python36\\lib\\site-packages\\sklearn\\ensemble\\forest.py:458: RuntimeWarning: invalid value encountered in true_divide\n",
      "  predictions[k].sum(axis=1)[:, np.newaxis])\n",
      "c:\\users\\yurih\\appdata\\local\\programs\\python\\python36\\lib\\site-packages\\sklearn\\ensemble\\forest.py:453: UserWarning: Some inputs do not have OOB scores. This probably means too few trees were used to compute any reliable oob estimates.\n",
      "  warn(\"Some inputs do not have OOB scores. \"\n",
      "c:\\users\\yurih\\appdata\\local\\programs\\python\\python36\\lib\\site-packages\\sklearn\\ensemble\\forest.py:458: RuntimeWarning: invalid value encountered in true_divide\n",
      "  predictions[k].sum(axis=1)[:, np.newaxis])\n",
      "c:\\users\\yurih\\appdata\\local\\programs\\python\\python36\\lib\\site-packages\\sklearn\\ensemble\\forest.py:453: UserWarning: Some inputs do not have OOB scores. This probably means too few trees were used to compute any reliable oob estimates.\n",
      "  warn(\"Some inputs do not have OOB scores. \"\n",
      "c:\\users\\yurih\\appdata\\local\\programs\\python\\python36\\lib\\site-packages\\sklearn\\ensemble\\forest.py:458: RuntimeWarning: invalid value encountered in true_divide\n",
      "  predictions[k].sum(axis=1)[:, np.newaxis])\n",
      "c:\\users\\yurih\\appdata\\local\\programs\\python\\python36\\lib\\site-packages\\sklearn\\ensemble\\forest.py:453: UserWarning: Some inputs do not have OOB scores. This probably means too few trees were used to compute any reliable oob estimates.\n",
      "  warn(\"Some inputs do not have OOB scores. \"\n",
      "c:\\users\\yurih\\appdata\\local\\programs\\python\\python36\\lib\\site-packages\\sklearn\\ensemble\\forest.py:458: RuntimeWarning: invalid value encountered in true_divide\n",
      "  predictions[k].sum(axis=1)[:, np.newaxis])\n",
      "c:\\users\\yurih\\appdata\\local\\programs\\python\\python36\\lib\\site-packages\\sklearn\\ensemble\\forest.py:453: UserWarning: Some inputs do not have OOB scores. This probably means too few trees were used to compute any reliable oob estimates.\n",
      "  warn(\"Some inputs do not have OOB scores. \"\n",
      "c:\\users\\yurih\\appdata\\local\\programs\\python\\python36\\lib\\site-packages\\sklearn\\ensemble\\forest.py:458: RuntimeWarning: invalid value encountered in true_divide\n",
      "  predictions[k].sum(axis=1)[:, np.newaxis])\n",
      "c:\\users\\yurih\\appdata\\local\\programs\\python\\python36\\lib\\site-packages\\sklearn\\ensemble\\forest.py:453: UserWarning: Some inputs do not have OOB scores. This probably means too few trees were used to compute any reliable oob estimates.\n",
      "  warn(\"Some inputs do not have OOB scores. \"\n",
      "c:\\users\\yurih\\appdata\\local\\programs\\python\\python36\\lib\\site-packages\\sklearn\\ensemble\\forest.py:458: RuntimeWarning: invalid value encountered in true_divide\n",
      "  predictions[k].sum(axis=1)[:, np.newaxis])\n",
      "c:\\users\\yurih\\appdata\\local\\programs\\python\\python36\\lib\\site-packages\\sklearn\\ensemble\\forest.py:453: UserWarning: Some inputs do not have OOB scores. This probably means too few trees were used to compute any reliable oob estimates.\n",
      "  warn(\"Some inputs do not have OOB scores. \"\n",
      "c:\\users\\yurih\\appdata\\local\\programs\\python\\python36\\lib\\site-packages\\sklearn\\ensemble\\forest.py:458: RuntimeWarning: invalid value encountered in true_divide\n",
      "  predictions[k].sum(axis=1)[:, np.newaxis])\n"
     ]
    }
   ],
   "source": [
    "column_pair_performance = pd.DataFrame(columns=['c1', 'c2', 'deviance'])\n",
    "column_pairs = list(itertools.combinations(df_treated.columns, 2))\n",
    "\n",
    "for i, pair in display_pb(column_pairs, index=True):\n",
    "  c1, c2 = pair\n",
    "  X_train_pair = pd.get_dummies(X_train[[c1, c2]])\n",
    "\n",
    "  rf_model = get_RFC_model()\n",
    "  rf_model.fit(X=X_train_pair, y=y_train.values.ravel())\n",
    "\n",
    "  X_valid_dummies = pd.get_dummies(X_valid[[c1,c2]])\n",
    "  predict_prob = rf_model.predict_proba(X=X_valid_dummies)[:, 1]\n",
    "  deviance = bin_class_dev(p_hat=predict_prob, y=y_valid.values.ravel(), pos_cat='yes')\n",
    "  column_pair_performance.loc[i] = c1, c2, deviance\n",
    "  "
   ]
  },
  {
   "cell_type": "code",
   "execution_count": 30,
   "metadata": {},
   "outputs": [
    {
     "data": {
      "text/plain": [
       "Text(0.5,1,'Performance by pair')"
      ]
     },
     "execution_count": 30,
     "metadata": {},
     "output_type": "execute_result"
    },
    {
     "data": {
      "image/png": "[encoded data removed]",
      "text/plain": [
       "<Figure size 720x432 with 1 Axes>"
      ]
     },
     "metadata": {},
     "output_type": "display_data"
    }
   ],
   "source": [
    "pd.Series(column_pair_performance.deviance.sort_values().values).plot()\n",
    "title('Performance by pair')\n",
    "# savefig('./graphs/performance_by_pair.png')"
   ]
  },
  {
   "cell_type": "markdown",
   "metadata": {},
   "source": [
    "Sort and get the top half performances than break the pairs"
   ]
  },
  {
   "cell_type": "code",
   "execution_count": 31,
   "metadata": {},
   "outputs": [
    {
     "data": {
      "text/plain": [
       "1020    Var133\n",
       "1167    Var160\n",
       "374      Var28\n",
       "459      Var38\n",
       "1149    Var153\n",
       "dtype: object"
      ]
     },
     "execution_count": 31,
     "metadata": {},
     "output_type": "execute_result"
    }
   ],
   "source": [
    "half, _ = divmod(len(column_pair_performance), 2)\n",
    "cpp_top_half = column_pair_performance.sort_values('deviance', ascending=False).head(half)\n",
    "new_columns = ['column',]\n",
    "a = cpp_top_half.c1\n",
    "a.columns = new_columns\n",
    "b = cpp_top_half.c2\n",
    "b.columns = new_columns\n",
    "top_half_columns = pd.concat([a,b], axis=0)\n",
    "top_half_columns.head()"
   ]
  },
  {
   "cell_type": "markdown",
   "metadata": {},
   "source": [
    "Calculate the frequency of each column in the top half than plot the frequency of that"
   ]
  },
  {
   "cell_type": "code",
   "execution_count": 63,
   "metadata": {},
   "outputs": [
    {
     "data": {
      "text/plain": [
       "<matplotlib.lines.Line2D at 0x186a7b88208>"
      ]
     },
     "execution_count": 63,
     "metadata": {},
     "output_type": "execute_result"
    },
    {
     "data": {
      "image/png": "[encoded data removed]",
      "text/plain": [
       "<Figure size 720x432 with 1 Axes>"
      ]
     },
     "metadata": {},
     "output_type": "display_data"
    }
   ],
   "source": [
    "freq_limit = 30\n",
    "top_half_columns_freq = top_half_columns.groupby(top_half_columns).count()\n",
    "ax = top_half_columns_freq.sort_values().plot.hist()\n",
    "ax.axvline(freq_limit, color='k', linestyle='dashed')"
   ]
  },
  {
   "cell_type": "markdown",
   "metadata": {},
   "source": [
    "Filter the best columns"
   ]
  },
  {
   "cell_type": "code",
   "execution_count": 48,
   "metadata": {},
   "outputs": [
    {
     "data": {
      "text/plain": [
       "(16, 23)"
      ]
     },
     "execution_count": 48,
     "metadata": {},
     "output_type": "execute_result"
    }
   ],
   "source": [
    "best_columns = top_half_columns_freq[top_half_columns_freq > freq_limit].index\n",
    "len(best_columns), len(X_train.columns)"
   ]
  },
  {
   "cell_type": "markdown",
   "metadata": {},
   "source": [
    "Set the data for training"
   ]
  },
  {
   "cell_type": "code",
   "execution_count": 50,
   "metadata": {},
   "outputs": [],
   "source": [
    "X_train = X_train[best_columns]\n",
    "X_valid = X_valid[best_columns]\n",
    "X_test = X_test[best_columns]"
   ]
  },
  {
   "cell_type": "markdown",
   "metadata": {},
   "source": [
    "#### Save best features"
   ]
  },
  {
   "cell_type": "code",
   "execution_count": 71,
   "metadata": {},
   "outputs": [],
   "source": [
    "# best_columns.to_series().to_csv(BEST_FEATURES_PATH)"
   ]
  },
  {
   "cell_type": "markdown",
   "metadata": {},
   "source": [
    "## Training"
   ]
  },
  {
   "cell_type": "markdown",
   "metadata": {},
   "source": [
    "### Random Forest Classifier"
   ]
  },
  {
   "cell_type": "code",
   "execution_count": 52,
   "metadata": {},
   "outputs": [
    {
     "data": {
      "text/plain": [
       "RandomForestClassifier(bootstrap=True, class_weight=None, criterion='entropy',\n",
       "            max_depth=None, max_features=None, max_leaf_nodes=None,\n",
       "            min_impurity_decrease=0.0, min_impurity_split=None,\n",
       "            min_samples_leaf=50, min_samples_split=100,\n",
       "            min_weight_fraction_leaf=0.0, n_estimators=1200, n_jobs=1,\n",
       "            oob_score=True, random_state=None, verbose=0, warm_start=False)"
      ]
     },
     "execution_count": 52,
     "metadata": {},
     "output_type": "execute_result"
    }
   ],
   "source": [
    "B = 1200\n",
    "\n",
    "rf_model = RandomForestClassifier(\n",
    "    n_estimators=B,\n",
    "    criterion='entropy',\n",
    "    max_depth=None,   # expand until all leaves are pure or contain < MIN_SAMPLES_SPLIT samples\n",
    "    min_samples_split=100,\n",
    "    min_samples_leaf=50,\n",
    "    min_weight_fraction_leaf=0.0,\n",
    "    max_features=None,   # number of features to consider when looking for the best split; None: max_features=n_features\n",
    "    max_leaf_nodes=None,   # None: unlimited number of leaf nodes\n",
    "    bootstrap=True,\n",
    "    oob_score=True,   # estimate Out-of-Bag Cross Entropy\n",
    "#     n_jobs=cpu_count() - 2,   # paralellize over all CPU cores but 2\n",
    "    class_weight=None,    # our classes are skewed, but but too skewed\n",
    "#     random_state=RANDOM_SEED,\n",
    "    verbose=0,\n",
    "    warm_start=False\n",
    ")\n",
    "\n",
    "rf_model.fit(X=pd.get_dummies(X_train), y=y_train.values.ravel())"
   ]
  },
  {
   "cell_type": "markdown",
   "metadata": {},
   "source": [
    "### Gradient Boosting Classifier"
   ]
  },
  {
   "cell_type": "code",
   "execution_count": 53,
   "metadata": {},
   "outputs": [
    {
     "data": {
      "text/plain": [
       "GradientBoostingClassifier(criterion='friedman_mse', init=None,\n",
       "              learning_rate=0.01, loss='deviance', max_depth=10,\n",
       "              max_features=None, max_leaf_nodes=None,\n",
       "              min_impurity_decrease=0.0, min_impurity_split=None,\n",
       "              min_samples_leaf=100, min_samples_split=200,\n",
       "              min_weight_fraction_leaf=0.0, n_estimators=2400,\n",
       "              presort='auto', random_state=None, subsample=1.0, verbose=0,\n",
       "              warm_start=False)"
      ]
     },
     "execution_count": 53,
     "metadata": {},
     "output_type": "execute_result"
    }
   ],
   "source": [
    "B = 2400\n",
    "\n",
    "boost_model = GradientBoostingClassifier(\n",
    "    n_estimators=B,\n",
    "    loss='deviance',   # a.k.a Cross Entropy in Classification\n",
    "    learning_rate=.01,   # shrinkage parameter\n",
    "    subsample=1.,\n",
    "    min_samples_split=200,\n",
    "    min_samples_leaf=100,\n",
    "    min_weight_fraction_leaf=0.0,\n",
    "    max_depth=10,   # maximum tree depth / number of levels of interaction\n",
    "    init=None,\n",
    "#     random_state=RANDOM_SEED,\n",
    "    max_features=None,   # number of features to consider when looking for the best split; None: max_features=n_features\n",
    "    verbose=0,\n",
    "    max_leaf_nodes=None,   # None: unlimited number of leaf nodes\n",
    "    warm_start=False\n",
    ")\n",
    "\n",
    "boost_model.fit(X=pd.get_dummies(X_train), y=y_train.values.ravel())"
   ]
  },
  {
   "cell_type": "markdown",
   "metadata": {},
   "source": [
    "### Metrics"
   ]
  },
  {
   "cell_type": "code",
   "execution_count": 54,
   "metadata": {},
   "outputs": [],
   "source": [
    "low_prob = 1e-6\n",
    "high_prob = 1 - low_prob\n",
    "log_low_prob = np.log(low_prob)\n",
    "log_high_prob = np.log(high_prob)\n",
    "log_prob_thresholds = np.linspace(start=log_low_prob, stop=log_high_prob, num=100)\n",
    "prob_thresholds = np.exp(log_prob_thresholds)"
   ]
  },
  {
   "cell_type": "code",
   "execution_count": 55,
   "metadata": {},
   "outputs": [
    {
     "name": "stdout",
     "output_type": "stream",
     "text": [
      "Done!\n"
     ]
    },
    {
     "name": "stderr",
     "output_type": "stream",
     "text": [
      "c:\\users\\yurih\\appdata\\local\\programs\\python\\python36\\lib\\site-packages\\ipykernel_launcher.py:45: RuntimeWarning: invalid value encountered in double_scalars\n",
      "c:\\users\\yurih\\appdata\\local\\programs\\python\\python36\\lib\\site-packages\\ipykernel_launcher.py:44: RuntimeWarning: invalid value encountered in long_scalars\n"
     ]
    }
   ],
   "source": [
    "rf_pred_probs = rf_model.predict_proba(X=pd.get_dummies(X_valid))\n",
    "rf_oos_performance = bin_classif_eval(\n",
    "    rf_pred_probs[:, 1], \n",
    "    y_valid.values.ravel() == 'yes',\n",
    "    pos_cat='yes',\n",
    "    thresholds=prob_thresholds\n",
    ")\n",
    "print('Done!')"
   ]
  },
  {
   "cell_type": "code",
   "execution_count": 56,
   "metadata": {},
   "outputs": [
    {
     "name": "stdout",
     "output_type": "stream",
     "text": [
      "Done!\n"
     ]
    },
    {
     "name": "stderr",
     "output_type": "stream",
     "text": [
      "c:\\users\\yurih\\appdata\\local\\programs\\python\\python36\\lib\\site-packages\\ipykernel_launcher.py:45: RuntimeWarning: invalid value encountered in double_scalars\n",
      "c:\\users\\yurih\\appdata\\local\\programs\\python\\python36\\lib\\site-packages\\ipykernel_launcher.py:44: RuntimeWarning: invalid value encountered in long_scalars\n"
     ]
    }
   ],
   "source": [
    "boost_pred_probs = boost_model.predict_proba(X=pd.get_dummies(X_valid))\n",
    "boost_oos_performance = bin_classif_eval(\n",
    "    boost_pred_probs[:, 1], \n",
    "    y_valid.values.ravel() == 'yes', \n",
    "    pos_cat='yes', \n",
    "    thresholds=prob_thresholds\n",
    ")\n",
    "print('Done!')"
   ]
  },
  {
   "cell_type": "code",
   "execution_count": 57,
   "metadata": {},
   "outputs": [
    {
     "data": {
      "text/plain": [
       "<matplotlib.legend.Legend at 0x186952734e0>"
      ]
     },
     "execution_count": 57,
     "metadata": {},
     "output_type": "execute_result"
    },
    {
     "data": {
      "image/png": "[encoded data removed]",
      "text/plain": [
       "<Figure size 720x432 with 1 Axes>"
      ]
     },
     "metadata": {},
     "output_type": "display_data"
    }
   ],
   "source": [
    "pyplot.plot(\n",
    "    [0, 1], [0, 1],\n",
    "    linestyle='dotted')\n",
    "pyplot.plot(\n",
    "    1 - rf_oos_performance.specificity,\n",
    "    rf_oos_performance.recall,\n",
    "    label='Random Forest')\n",
    "pyplot.plot(\n",
    "    1 - boost_oos_performance.specificity,\n",
    "    boost_oos_performance.recall,\n",
    "    label='Boosted Trees')\n",
    "title('ROC Curves (Validation Data)')\n",
    "legend(loc='right')\n",
    "# savefig('./graphs/roc_curves_validation_data.png')"
   ]
  },
  {
   "cell_type": "markdown",
   "metadata": {},
   "source": [
    "Select a arbitrary threshold to measure accuracy in the test data"
   ]
  },
  {
   "cell_type": "code",
   "execution_count": 65,
   "metadata": {},
   "outputs": [
    {
     "data": {
      "text/plain": [
       "0.04037014159471835"
      ]
     },
     "execution_count": 65,
     "metadata": {},
     "output_type": "execute_result"
    }
   ],
   "source": [
    "recall_threshold = .25\n",
    "idx = next(i for i in range(100) if rf_oos_performance.recall[i] <= recall_threshold) - 1\n",
    "selected_prob_threshold = prob_thresholds[idx]\n",
    "selected_prob_threshold"
   ]
  },
  {
   "cell_type": "code",
   "execution_count": 66,
   "metadata": {},
   "outputs": [
    {
     "data": {
      "text/plain": [
       "threshold      0.040370\n",
       "accuracy       0.846400\n",
       "recall         0.269663\n",
       "specificity    0.856852\n",
       "precision      0.033012\n",
       "f1_score       0.058824\n",
       "deviance       0.182125\n",
       "Name: 76, dtype: float64"
      ]
     },
     "execution_count": 66,
     "metadata": {},
     "output_type": "execute_result"
    }
   ],
   "source": [
    "rf_oos_performance.iloc[idx, :]"
   ]
  },
  {
   "cell_type": "markdown",
   "metadata": {},
   "source": [
    "Test data metrics"
   ]
  },
  {
   "cell_type": "code",
   "execution_count": 69,
   "metadata": {},
   "outputs": [
    {
     "data": {
      "text/plain": [
       "{'accuracy': 0.8535666666666667,\n",
       " 'recall': 0.2940074906367041,\n",
       " 'specificity': 0.8637073236951063,\n",
       " 'precision': 0.0376228133237479,\n",
       " 'f1_score': 0.06670915657531336,\n",
       " 'deviance': 0.1757713685883376}"
      ]
     },
     "execution_count": 69,
     "metadata": {},
     "output_type": "execute_result"
    }
   ],
   "source": [
    "rf_test_pred_probs = rf_model.predict_proba(X=pd.get_dummies(X_test))\n",
    "rf_test_oos_performance = bin_classif_eval(\n",
    "    rf_test_pred_probs[:, 1], \n",
    "    y_test.values.ravel() == 'yes',\n",
    "    pos_cat='yes', \n",
    "    thresholds=selected_prob_threshold\n",
    ")\n",
    "rf_test_oos_performance"
   ]
  },
  {
   "cell_type": "markdown",
   "metadata": {},
   "source": [
    "## AUC Pontuation"
   ]
  },
  {
   "cell_type": "code",
   "execution_count": 70,
   "metadata": {},
   "outputs": [
    {
     "data": {
      "text/plain": [
       "0.7080443886192962"
      ]
     },
     "execution_count": 70,
     "metadata": {},
     "output_type": "execute_result"
    }
   ],
   "source": [
    "fpr, tpr, _ = metrics.roc_curve(y_test, rf_test_pred_probs[:, 1], pos_label='yes')\n",
    "auc_pontuation = metrics.auc(fpr, tpr)\n",
    "auc_pontuation"
   ]
  },
  {
   "cell_type": "markdown",
   "metadata": {},
   "source": [
    "## Save model"
   ]
  },
  {
   "cell_type": "code",
   "execution_count": 72,
   "metadata": {},
   "outputs": [
    {
     "name": "stdout",
     "output_type": "stream",
     "text": [
      "Model successfully saved!\n"
     ]
    }
   ],
   "source": [
    "# pickle.dump(rf_model, open(MODEL_PATH, 'wb'))\n",
    "# print('Model successfully saved!')"
   ]
  },
  {
   "cell_type": "code",
   "execution_count": null,
   "metadata": {},
   "outputs": [],
   "source": []
  }
 ],
 "metadata": {
  "colab": {
   "name": "random_forest_classifier_2.ipynb",
   "provenance": [],
   "version": "0.3.2"
  },
  "kernelspec": {
   "display_name": "Python 3",
   "language": "python",
   "name": "python3"
  },
  "language_info": {
   "codemirror_mode": {
    "name": "ipython",
    "version": 3
   },
   "file_extension": ".py",
   "mimetype": "text/x-python",
   "name": "python",
   "nbconvert_exporter": "python",
   "pygments_lexer": "ipython3",
   "version": "3.6.5"
  }
 },
 "nbformat": 4,
 "nbformat_minor": 1
}
